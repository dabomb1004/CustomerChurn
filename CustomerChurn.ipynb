{
  "nbformat": 4,
  "nbformat_minor": 0,
  "metadata": {
    "colab": {
      "name": "test - assignment ",
      "provenance": []
    },
    "kernelspec": {
      "name": "python3",
      "display_name": "Python 3"
    }
  },
  "cells": [
    {
      "cell_type": "markdown",
      "metadata": {
        "id": "Tzn6IXt9CAf5"
      },
      "source": [
        "**Assignment 1 Submission (by Daniel Kim and Hikma Awol)**"
      ]
    },
    {
      "cell_type": "code",
      "metadata": {
        "id": "N04kicqQCA12"
      },
      "source": [
        "import numpy as np\r\n",
        "import matplotlib.pyplot as plt\r\n",
        "import pandas as pd\r\n",
        "import os\r\n",
        "\r\n",
        "import pandas as pd\r\n",
        "df = pd.read_csv('ToyotaC"
      ],
      "execution_count": null,
      "outputs": []
    },
    {
      "cell_type": "code",
      "metadata": {
        "id": "fgUhExBJIpNe"
      },
      "source": [
        "import keras\r\n",
        "from sklearn.preprocessing import LabelEncoder, OneHotEncoder\r\n",
        "from sklearn.compose import ColumnTransformer\r\n",
        "\r\n",
        "X = pd.DataFrame(np.c_[df['Price'], df['Age_08_04'], df['KM'],\r\n",
        "df['Fuel_Type'], df['HP'], df['Automatic'],\r\n",
        "df['Doors'], df['Quarterly_Tax'], df['Mfr_Guarantee'],\r\n",
        "df['Guarantee_Period'], df['Airco'],\r\n",
        "df['Automatic_airco'], df['CD_Player'],\r\n",
        "df['Powered_Windows'], df['Sport_Model'],\r\n",
        "df['Tow_Bar']], columns = ['Price', 'Age_08_04', 'KM', 'Fuel_Type', 'HP',\r\n",
        "'Automatic', 'Doors', 'Quarterly_Tax', 'Mfr_Guarantee',\r\n",
        "'Guarantee_Period', 'Airco', 'Automatic_airco', 'CD_Player',\r\n",
        "'Powered_Windows', 'Sport_Model', 'Tow_Bar'])\r\n",
        "# X = X.values\r\n",
        "# y = Y.values\r\n"
      ],
      "execution_count": 104,
      "outputs": []
    },
    {
      "cell_type": "code",
      "metadata": {
        "colab": {
          "base_uri": "https://localhost:8080/"
        },
        "id": "79FnhWx3we3O",
        "outputId": "8caecb06-16d7-496a-edec-80101c670fe4"
      },
      "source": [
        "X.iloc[1:10, 3]"
      ],
      "execution_count": 45,
      "outputs": [
        {
          "output_type": "execute_result",
          "data": {
            "text/plain": [
              "1    Diesel\n",
              "2    Diesel\n",
              "3    Diesel\n",
              "4    Diesel\n",
              "5    Diesel\n",
              "6    Diesel\n",
              "7    Diesel\n",
              "8    Petrol\n",
              "9    Diesel\n",
              "Name: Fuel_Type, dtype: object"
            ]
          },
          "metadata": {
            "tags": []
          },
          "execution_count": 45
        }
      ]
    },
    {
      "cell_type": "code",
      "metadata": {
        "colab": {
          "base_uri": "https://localhost:8080/"
        },
        "id": "vJpUGKyuq7f4",
        "outputId": "fc284f82-c745-4fb0-a2e5-d39f43507569"
      },
      "source": [
        "print(\"doors: \", X['Doors'].unique())\r\n",
        "print(\"Fuel_Type: \", X['Fuel_Type'].unique())\r\n"
      ],
      "execution_count": 87,
      "outputs": [
        {
          "output_type": "stream",
          "text": [
            "doors:  [3 5 4 2]\n",
            "Fuel_Type:  ['Diesel' 'Petrol' 'CNG']\n"
          ],
          "name": "stdout"
        }
      ]
    },
    {
      "cell_type": "code",
      "metadata": {
        "colab": {
          "base_uri": "https://localhost:8080/"
        },
        "id": "g4ky4KJEpObn",
        "outputId": "74c5f0cb-8ad6-44b1-a944-2cdda0d12a73"
      },
      "source": [
        "# Doors column\r\n",
        "ct2 = ColumnTransformer([(\"Fuel_Type\", OneHotEncoder(), [3]),(\"Doors\", OneHotEncoder(), [6])], remainder = 'passthrough')\r\n",
        "X_new = ct2.fit_transform(X)\r\n",
        "X_new[0:10,]\r\n"
      ],
      "execution_count": 105,
      "outputs": [
        {
          "output_type": "execute_result",
          "data": {
            "text/plain": [
              "array([[0.0, 1.0, 0.0, 0.0, 1.0, 0.0, 0.0, 13500, 23, 46986, 90, 0, 210,\n",
              "        0, 3, 0, 0, 0, 1, 0, 0],\n",
              "       [0.0, 1.0, 0.0, 0.0, 1.0, 0.0, 0.0, 13750, 23, 72937, 90, 0, 210,\n",
              "        0, 3, 1, 0, 1, 0, 0, 0],\n",
              "       [0.0, 1.0, 0.0, 0.0, 1.0, 0.0, 0.0, 13950, 24, 41711, 90, 0, 210,\n",
              "        1, 3, 0, 0, 0, 0, 0, 0],\n",
              "       [0.0, 1.0, 0.0, 0.0, 1.0, 0.0, 0.0, 14950, 26, 48000, 90, 0, 210,\n",
              "        1, 3, 0, 0, 0, 0, 0, 0],\n",
              "       [0.0, 1.0, 0.0, 0.0, 1.0, 0.0, 0.0, 13750, 30, 38500, 90, 0, 210,\n",
              "        1, 3, 1, 0, 0, 1, 0, 0],\n",
              "       [0.0, 1.0, 0.0, 0.0, 1.0, 0.0, 0.0, 12950, 32, 61000, 90, 0, 210,\n",
              "        0, 3, 1, 0, 0, 1, 0, 0],\n",
              "       [0.0, 1.0, 0.0, 0.0, 1.0, 0.0, 0.0, 16900, 27, 94612, 90, 0, 210,\n",
              "        0, 3, 1, 0, 0, 1, 1, 0],\n",
              "       [0.0, 1.0, 0.0, 0.0, 1.0, 0.0, 0.0, 18600, 30, 75889, 90, 0, 210,\n",
              "        1, 3, 1, 0, 1, 1, 0, 0],\n",
              "       [0.0, 0.0, 1.0, 0.0, 1.0, 0.0, 0.0, 21500, 27, 19700, 192, 0, 100,\n",
              "        0, 3, 1, 0, 0, 1, 0, 0],\n",
              "       [0.0, 1.0, 0.0, 0.0, 1.0, 0.0, 0.0, 12950, 23, 71138, 69, 0, 185,\n",
              "        0, 3, 1, 0, 0, 0, 0, 0]], dtype=object)"
            ]
          },
          "metadata": {
            "tags": []
          },
          "execution_count": 105
        }
      ]
    },
    {
      "cell_type": "code",
      "metadata": {
        "colab": {
          "base_uri": "https://localhost:8080/"
        },
        "id": "hSLxxulOFS84",
        "outputId": "a14c7e93-1430-45e5-9a3f-f1885a8dd4de"
      },
      "source": [
        "#scaling\r\n",
        "from sklearn.preprocessing import MinMaxScaler\r\n",
        "mms = MinMaxScaler()\r\n",
        "X_normalized = mms.fit_transform(X_new)\r\n",
        "X_normalized[0][:]"
      ],
      "execution_count": 106,
      "outputs": [
        {
          "output_type": "execute_result",
          "data": {
            "text/plain": [
              "array([0.        , 1.        , 0.        , 0.        , 1.        ,\n",
              "       0.        , 0.        , 0.3250444 , 0.27848101, 0.19335471,\n",
              "       0.17073171, 0.        , 0.72348485, 0.        , 0.        ,\n",
              "       0.        , 0.        , 0.        , 1.        , 0.        ,\n",
              "       0.        ])"
            ]
          },
          "metadata": {
            "tags": []
          },
          "execution_count": 106
        }
      ]
    },
    {
      "cell_type": "code",
      "metadata": {
        "colab": {
          "base_uri": "https://localhost:8080/"
        },
        "id": "eEMgFB1Xxa6R",
        "outputId": "bc1503f1-f6d7-4bbb-8544-b17a7ab21007"
      },
      "source": [
        "X_normalized[0][[1,7]]"
      ],
      "execution_count": 58,
      "outputs": [
        {
          "output_type": "execute_result",
          "data": {
            "text/plain": [
              "array([1.       , 0.3250444])"
            ]
          },
          "metadata": {
            "tags": []
          },
          "execution_count": 58
        }
      ]
    },
    {
      "cell_type": "code",
      "metadata": {
        "id": "NK6TcSDHuPrN"
      },
      "source": [
        "#Split the data into test and training set\r\n",
        "from sklearn.model_selection import train_test_split\r\n",
        "# Split Price column from the other variables\r\n",
        "X_normalized = X_normalized[:, [0,1,2,3,4,5,6,8,9,10,11,12,13,14,15,16,17,18,19]] \r\n",
        "price = X_normalized[:, 7]\r\n",
        "\r\n",
        "X_train, X_test, y_train, y_test = train_test_split(X_normalized, price, test_size =0.3, random_state = 0)\r\n"
      ],
      "execution_count": 107,
      "outputs": []
    },
    {
      "cell_type": "code",
      "metadata": {
        "colab": {
          "base_uri": "https://localhost:8080/"
        },
        "id": "sLLak3cJzF7B",
        "outputId": "98c20f30-9ef6-4884-9b23-ed1e0b185533"
      },
      "source": [
        "shape = X_normalized.shape\r\n",
        "shape"
      ],
      "execution_count": 93,
      "outputs": [
        {
          "output_type": "execute_result",
          "data": {
            "text/plain": [
              "(1436, 19)"
            ]
          },
          "metadata": {
            "tags": []
          },
          "execution_count": 93
        }
      ]
    },
    {
      "cell_type": "code",
      "metadata": {
        "colab": {
          "base_uri": "https://localhost:8080/"
        },
        "id": "WLvoRj0X7TUm",
        "outputId": "44144cc7-e005-4461-f7e4-bf82cc9f0774"
      },
      "source": [
        "price"
      ],
      "execution_count": 94,
      "outputs": [
        {
          "output_type": "execute_result",
          "data": {
            "text/plain": [
              "array([0.19335471, 0.30014938, 0.1716468 , ..., 0.07002086, 0.06960934,\n",
              "       0.        ])"
            ]
          },
          "metadata": {
            "tags": []
          },
          "execution_count": 94
        }
      ]
    },
    {
      "cell_type": "code",
      "metadata": {
        "colab": {
          "base_uri": "https://localhost:8080/"
        },
        "id": "Lar1tR_AFZZy",
        "outputId": "db48ed47-4750-438c-d29e-1a58fef1c2ba"
      },
      "source": [
        "# Importing the Keras libraries and packages\r\n",
        "import keras\r\n",
        "from keras.models import Sequential\r\n",
        "from keras.layers import Dense\r\n",
        "\r\n",
        "\r\n",
        "# Initialising the ANN\r\n",
        "classifier = Sequential()\r\n",
        "\r\n",
        "# Adding the input layer and the first hidden layer\r\n",
        "classifier.add(Dense(units = 2, kernel_initializer = 'uniform',activation = 'relu', input_dim = shape[1]))\r\n",
        "\r\n",
        "\r\n",
        "# Adding the output layer\r\n",
        "classifier.add(Dense(units = 1, kernel_initializer = 'uniform', activation = 'relu'))\r\n",
        "\r\n",
        "# Compiling the ANN\r\n",
        "classifier.compile(optimizer = 'adam', loss = keras.losses.MeanSquaredError(), metrics = [keras.metrics.RootMeanSquaredError()])\r\n",
        "\r\n",
        "\r\n",
        "\r\n",
        "# Fitting the ANN to the Training set\r\n",
        "classifier.fit(X_train, y_train, batch_size = 10, epochs = 20)\r\n",
        "classifier.summary()"
      ],
      "execution_count": 108,
      "outputs": [
        {
          "output_type": "stream",
          "text": [
            "Epoch 1/20\n",
            "101/101 [==============================] - 1s 846us/step - loss: 0.4711 - root_mean_squared_error: 0.6858\n",
            "Epoch 2/20\n",
            "101/101 [==============================] - 0s 908us/step - loss: 0.1467 - root_mean_squared_error: 0.3808\n",
            "Epoch 3/20\n",
            "101/101 [==============================] - 0s 870us/step - loss: 0.0652 - root_mean_squared_error: 0.2552\n",
            "Epoch 4/20\n",
            "101/101 [==============================] - 0s 822us/step - loss: 0.0453 - root_mean_squared_error: 0.2127\n",
            "Epoch 5/20\n",
            "101/101 [==============================] - 0s 956us/step - loss: 0.0294 - root_mean_squared_error: 0.1713\n",
            "Epoch 6/20\n",
            "101/101 [==============================] - 0s 869us/step - loss: 0.0226 - root_mean_squared_error: 0.1503\n",
            "Epoch 7/20\n",
            "101/101 [==============================] - 0s 885us/step - loss: 0.0180 - root_mean_squared_error: 0.1340\n",
            "Epoch 8/20\n",
            "101/101 [==============================] - 0s 948us/step - loss: 0.0157 - root_mean_squared_error: 0.1252\n",
            "Epoch 9/20\n",
            "101/101 [==============================] - 0s 861us/step - loss: 0.0139 - root_mean_squared_error: 0.1180\n",
            "Epoch 10/20\n",
            "101/101 [==============================] - 0s 920us/step - loss: 0.0126 - root_mean_squared_error: 0.1119\n",
            "Epoch 11/20\n",
            "101/101 [==============================] - 0s 932us/step - loss: 0.0114 - root_mean_squared_error: 0.1065\n",
            "Epoch 12/20\n",
            "101/101 [==============================] - 0s 840us/step - loss: 0.0109 - root_mean_squared_error: 0.1044\n",
            "Epoch 13/20\n",
            "101/101 [==============================] - 0s 887us/step - loss: 0.0097 - root_mean_squared_error: 0.0983\n",
            "Epoch 14/20\n",
            "101/101 [==============================] - 0s 881us/step - loss: 0.0090 - root_mean_squared_error: 0.0950\n",
            "Epoch 15/20\n",
            "101/101 [==============================] - 0s 845us/step - loss: 0.0081 - root_mean_squared_error: 0.0901\n",
            "Epoch 16/20\n",
            "101/101 [==============================] - 0s 948us/step - loss: 0.0082 - root_mean_squared_error: 0.0906\n",
            "Epoch 17/20\n",
            "101/101 [==============================] - 0s 1ms/step - loss: 0.0071 - root_mean_squared_error: 0.0843\n",
            "Epoch 18/20\n",
            "101/101 [==============================] - 0s 983us/step - loss: 0.0063 - root_mean_squared_error: 0.0793\n",
            "Epoch 19/20\n",
            "101/101 [==============================] - 0s 895us/step - loss: 0.0062 - root_mean_squared_error: 0.0785\n",
            "Epoch 20/20\n",
            "101/101 [==============================] - 0s 901us/step - loss: 0.0055 - root_mean_squared_error: 0.0743\n",
            "Model: \"sequential_6\"\n",
            "_________________________________________________________________\n",
            "Layer (type)                 Output Shape              Param #   \n",
            "=================================================================\n",
            "dense_12 (Dense)             (None, 2)                 40        \n",
            "_________________________________________________________________\n",
            "dense_13 (Dense)             (None, 1)                 3         \n",
            "=================================================================\n",
            "Total params: 43\n",
            "Trainable params: 43\n",
            "Non-trainable params: 0\n",
            "_________________________________________________________________\n"
          ],
          "name": "stdout"
        }
      ]
    },
    {
      "cell_type": "code",
      "metadata": {
        "id": "kKz0Fr4b4Ei5"
      },
      "source": [
        "y_pred = classifier.predict(X_test)"
      ],
      "execution_count": 109,
      "outputs": []
    },
    {
      "cell_type": "code",
      "metadata": {
        "colab": {
          "base_uri": "https://localhost:8080/"
        },
        "id": "J-usp7xRFpoz",
        "outputId": "d8493131-f6fa-45e1-d392-42988957b5b9"
      },
      "source": [
        "from sklearn.metrics import mean_squared_error\r\n",
        "from math import sqrt\r\n",
        "\r\n",
        "rms_test = sqrt(mean_squared_error(y_test, y_pred))\r\n",
        "print(\"RMS Error for training model with 1 layer and 2 nodes is .073 on 20th epoch\")\r\n",
        "\r\n",
        "rms_test = sqrt(mean_squared_error(y_test, y_pred))\r\n",
        "\r\n",
        "print(\"RMS Error for test model with 1 layer and 2 nodes is\", rms_test)"
      ],
      "execution_count": 111,
      "outputs": [
        {
          "output_type": "stream",
          "text": [
            "RMS Error for training model with 1 layer and 2 nodes is .073 on 20th epoch\n",
            "RMS Error for test model with 1 layer and 2 nodes is 0.0686864376756383\n"
          ],
          "name": "stdout"
        }
      ]
    },
    {
      "cell_type": "markdown",
      "metadata": {
        "id": "lJQbAvcr9nIY"
      },
      "source": [
        "**For single layer with 5 nodes**\r\n"
      ]
    },
    {
      "cell_type": "code",
      "metadata": {
        "colab": {
          "base_uri": "https://localhost:8080/"
        },
        "id": "0HrVoSmvGpZX",
        "outputId": "0851ff21-8b4a-4cb2-e6bd-e59418526206"
      },
      "source": [
        "# Initialising the ANN\r\n",
        "five_node_model = Sequential()\r\n",
        "\r\n",
        "# Adding the input layer and the first hidden layer\r\n",
        "five_node_model.add(Dense(units = 5, kernel_initializer = 'uniform',activation = 'relu', input_dim = shape[1]))\r\n",
        "\r\n",
        "# Adding the output layer\r\n",
        "five_node_model.add(Dense(units = 1, kernel_initializer = 'uniform', activation = 'relu'))\r\n",
        "\r\n",
        "# Compiling the ANN\r\n",
        "five_node_model.compile(optimizer = 'adam', loss = keras.losses.MeanSquaredError(), metrics = [keras.metrics.RootMeanSquaredError()])\r\n",
        "\r\n",
        "# Fitting the ANN to the Training set\r\n",
        "five_node_model.fit(X_train, y_train, batch_size = 10, epochs = 20)\r\n"
      ],
      "execution_count": 112,
      "outputs": [
        {
          "output_type": "stream",
          "text": [
            "Epoch 1/20\n",
            "101/101 [==============================] - 0s 1ms/step - loss: 0.4631 - root_mean_squared_error: 0.6794\n",
            "Epoch 2/20\n",
            "101/101 [==============================] - 0s 987us/step - loss: 0.1012 - root_mean_squared_error: 0.3174\n",
            "Epoch 3/20\n",
            "101/101 [==============================] - 0s 965us/step - loss: 0.0542 - root_mean_squared_error: 0.2326\n",
            "Epoch 4/20\n",
            "101/101 [==============================] - 0s 946us/step - loss: 0.0382 - root_mean_squared_error: 0.1951\n",
            "Epoch 5/20\n",
            "101/101 [==============================] - 0s 1ms/step - loss: 0.0237 - root_mean_squared_error: 0.1539\n",
            "Epoch 6/20\n",
            "101/101 [==============================] - 0s 1ms/step - loss: 0.0175 - root_mean_squared_error: 0.1323\n",
            "Epoch 7/20\n",
            "101/101 [==============================] - 0s 1ms/step - loss: 0.0144 - root_mean_squared_error: 0.1201\n",
            "Epoch 8/20\n",
            "101/101 [==============================] - 0s 1ms/step - loss: 0.0134 - root_mean_squared_error: 0.1158\n",
            "Epoch 9/20\n",
            "101/101 [==============================] - 0s 1ms/step - loss: 0.0121 - root_mean_squared_error: 0.1098\n",
            "Epoch 10/20\n",
            "101/101 [==============================] - 0s 1ms/step - loss: 0.0107 - root_mean_squared_error: 0.1033\n",
            "Epoch 11/20\n",
            "101/101 [==============================] - 0s 1ms/step - loss: 0.0101 - root_mean_squared_error: 0.1004\n",
            "Epoch 12/20\n",
            "101/101 [==============================] - 0s 1ms/step - loss: 0.0093 - root_mean_squared_error: 0.0961\n",
            "Epoch 13/20\n",
            "101/101 [==============================] - 0s 1ms/step - loss: 0.0087 - root_mean_squared_error: 0.0929\n",
            "Epoch 14/20\n",
            "101/101 [==============================] - 0s 1ms/step - loss: 0.0077 - root_mean_squared_error: 0.0877\n",
            "Epoch 15/20\n",
            "101/101 [==============================] - 0s 1ms/step - loss: 0.0062 - root_mean_squared_error: 0.0789\n",
            "Epoch 16/20\n",
            "101/101 [==============================] - 0s 995us/step - loss: 0.0060 - root_mean_squared_error: 0.0775\n",
            "Epoch 17/20\n",
            "101/101 [==============================] - 0s 963us/step - loss: 0.0054 - root_mean_squared_error: 0.0734\n",
            "Epoch 18/20\n",
            "101/101 [==============================] - 0s 973us/step - loss: 0.0045 - root_mean_squared_error: 0.0668\n",
            "Epoch 19/20\n",
            "101/101 [==============================] - 0s 1ms/step - loss: 0.0038 - root_mean_squared_error: 0.0612\n",
            "Epoch 20/20\n",
            "101/101 [==============================] - 0s 1ms/step - loss: 0.0035 - root_mean_squared_error: 0.0589\n"
          ],
          "name": "stdout"
        },
        {
          "output_type": "execute_result",
          "data": {
            "text/plain": [
              "<tensorflow.python.keras.callbacks.History at 0x7f8598a58e10>"
            ]
          },
          "metadata": {
            "tags": []
          },
          "execution_count": 112
        }
      ]
    },
    {
      "cell_type": "code",
      "metadata": {
        "id": "hVPsB62R-Nvh"
      },
      "source": [
        "y_pred = five_node_model.predict(X_test)"
      ],
      "execution_count": 113,
      "outputs": []
    },
    {
      "cell_type": "code",
      "metadata": {
        "colab": {
          "base_uri": "https://localhost:8080/"
        },
        "id": "CuRHWj2H-K-k",
        "outputId": "88429bcc-71b2-4cb4-aa2d-58f37cf8cffb"
      },
      "source": [
        "print(\"RMS Error for training model with 1 layer and 5 nodes is .0589 on 20th epoch\")\r\n",
        "\r\n",
        "rms_test2 = sqrt(mean_squared_error(y_test, y_pred))\r\n",
        "\r\n",
        "print(\"RMS Error for test model with 1 layer and 2 nodes is\", rms_test2)"
      ],
      "execution_count": 114,
      "outputs": [
        {
          "output_type": "stream",
          "text": [
            "RMS Error for training model with 1 layer and 5 nodes is .0589 on 20th epoch\n",
            "RMS Error for test model with 1 layer and 2 nodes is 0.055282418583948126\n"
          ],
          "name": "stdout"
        }
      ]
    },
    {
      "cell_type": "markdown",
      "metadata": {
        "id": "7ZFAXkwD_Dt2"
      },
      "source": [
        "**2 layers and 5 nodes per Hidden Layer**\r\n"
      ]
    },
    {
      "cell_type": "code",
      "metadata": {
        "colab": {
          "base_uri": "https://localhost:8080/"
        },
        "id": "cM2ycmUr_JbW",
        "outputId": "fc96e715-9446-4360-a88d-78447796ae36"
      },
      "source": [
        "# Initialising the ANN\r\n",
        "two_layer_five_node_model = Sequential()\r\n",
        "\r\n",
        "# Adding the input layer and the first hidden layer\r\n",
        "two_layer_five_node_model.add(Dense(units = 5, kernel_initializer = 'uniform',activation = 'relu', input_dim = shape[1]))\r\n",
        "\r\n",
        "# Adding the input layer and the first hidden layer\r\n",
        "two_layer_five_node_model.add(Dense(units = 5, kernel_initializer = 'uniform',activation = 'relu'))\r\n",
        "\r\n",
        "# Adding the output layer\r\n",
        "two_layer_five_node_model.add(Dense(units = 1, kernel_initializer = 'uniform', activation = 'relu'))\r\n",
        "\r\n",
        "# Compiling the ANN\r\n",
        "two_layer_five_node_model.compile(optimizer = 'adam', loss = keras.losses.MeanSquaredError(), metrics = [keras.metrics.RootMeanSquaredError()])\r\n",
        "\r\n",
        "# Fitting the ANN to the Training set\r\n",
        "two_layer_five_node_model.fit(X_train, y_train, batch_size = 10, epochs = 20)"
      ],
      "execution_count": 118,
      "outputs": [
        {
          "output_type": "stream",
          "text": [
            "Epoch 1/20\n",
            "101/101 [==============================] - 0s 1ms/step - loss: 0.4890 - root_mean_squared_error: 0.6984\n",
            "Epoch 2/20\n",
            "101/101 [==============================] - 0s 1ms/step - loss: 0.1178 - root_mean_squared_error: 0.3403\n",
            "Epoch 3/20\n",
            "101/101 [==============================] - 0s 1ms/step - loss: 0.0441 - root_mean_squared_error: 0.2098\n",
            "Epoch 4/20\n",
            "101/101 [==============================] - 0s 1ms/step - loss: 0.0286 - root_mean_squared_error: 0.1689\n",
            "Epoch 5/20\n",
            "101/101 [==============================] - 0s 1ms/step - loss: 0.0181 - root_mean_squared_error: 0.1344\n",
            "Epoch 6/20\n",
            "101/101 [==============================] - 0s 1ms/step - loss: 0.0140 - root_mean_squared_error: 0.1180\n",
            "Epoch 7/20\n",
            "101/101 [==============================] - 0s 1ms/step - loss: 0.0135 - root_mean_squared_error: 0.1161\n",
            "Epoch 8/20\n",
            "101/101 [==============================] - 0s 1ms/step - loss: 0.0113 - root_mean_squared_error: 0.1064\n",
            "Epoch 9/20\n",
            "101/101 [==============================] - 0s 1ms/step - loss: 0.0099 - root_mean_squared_error: 0.0996\n",
            "Epoch 10/20\n",
            "101/101 [==============================] - 0s 1ms/step - loss: 0.0086 - root_mean_squared_error: 0.0927\n",
            "Epoch 11/20\n",
            "101/101 [==============================] - 0s 1ms/step - loss: 0.0078 - root_mean_squared_error: 0.0886\n",
            "Epoch 12/20\n",
            "101/101 [==============================] - 0s 1ms/step - loss: 0.0066 - root_mean_squared_error: 0.0809\n",
            "Epoch 13/20\n",
            "101/101 [==============================] - 0s 1ms/step - loss: 0.0056 - root_mean_squared_error: 0.0749\n",
            "Epoch 14/20\n",
            "101/101 [==============================] - 0s 991us/step - loss: 0.0047 - root_mean_squared_error: 0.0686\n",
            "Epoch 15/20\n",
            "101/101 [==============================] - 0s 979us/step - loss: 0.0038 - root_mean_squared_error: 0.0620\n",
            "Epoch 16/20\n",
            "101/101 [==============================] - 0s 1ms/step - loss: 0.0029 - root_mean_squared_error: 0.0536\n",
            "Epoch 17/20\n",
            "101/101 [==============================] - 0s 1000us/step - loss: 0.0027 - root_mean_squared_error: 0.0517\n",
            "Epoch 18/20\n",
            "101/101 [==============================] - 0s 1ms/step - loss: 0.0021 - root_mean_squared_error: 0.0454\n",
            "Epoch 19/20\n",
            "101/101 [==============================] - 0s 1ms/step - loss: 0.0018 - root_mean_squared_error: 0.0418\n",
            "Epoch 20/20\n",
            "101/101 [==============================] - 0s 1ms/step - loss: 0.0013 - root_mean_squared_error: 0.0359\n"
          ],
          "name": "stdout"
        },
        {
          "output_type": "execute_result",
          "data": {
            "text/plain": [
              "<tensorflow.python.keras.callbacks.History at 0x7f859a7ddfd0>"
            ]
          },
          "metadata": {
            "tags": []
          },
          "execution_count": 118
        }
      ]
    },
    {
      "cell_type": "code",
      "metadata": {
        "id": "ku9OVnRX_nBR"
      },
      "source": [
        "y_pred = two_layer_five_node_model.predict(X_test)"
      ],
      "execution_count": 119,
      "outputs": []
    },
    {
      "cell_type": "code",
      "metadata": {
        "colab": {
          "base_uri": "https://localhost:8080/"
        },
        "id": "L-3AxVx9_qC4",
        "outputId": "71dde369-e439-4502-c374-bb3a599ea90f"
      },
      "source": [
        "print(\"RMS Error for training model with 1 layer and 5 nodes is .0232 on 20th epoch\")\r\n",
        "\r\n",
        "rms_test3 = sqrt(mean_squared_error(y_test, y_pred))\r\n",
        "\r\n",
        "print(\"RMS Error for test model with 1 layer and 2 nodes is\", rms_test3)"
      ],
      "execution_count": 120,
      "outputs": [
        {
          "output_type": "stream",
          "text": [
            "RMS Error for training model with 1 layer and 5 nodes is .0232 on 20th epoch\n",
            "RMS Error for test model with 1 layer and 2 nodes is 0.034892163345145485\n"
          ],
          "name": "stdout"
        }
      ]
    },
    {
      "cell_type": "markdown",
      "metadata": {
        "id": "ijM0hHp2ADuu"
      },
      "source": [
        "**What happens to the RMS error for the training data as the number of layers\r\n",
        "and nodes increases?**\r\n",
        "\r\n"
      ]
    },
    {
      "cell_type": "markdown",
      "metadata": {
        "id": "VDevZ_lgAMhF"
      },
      "source": [
        "The RMS error decreased when the nodes were increased and the last model with two hidden layers and 5 nodes each actually did the best out of all three models. "
      ]
    },
    {
      "cell_type": "markdown",
      "metadata": {
        "id": "qXBdVhvQAyoN"
      },
      "source": [
        "**What happens to the RMS error for the validation data?**\r\n"
      ]
    },
    {
      "cell_type": "markdown",
      "metadata": {
        "id": "FyxwxUAgA3YS"
      },
      "source": [
        "the RMS decreased for the testing dataset for the first two models (1 layer and 2 nodes, 1 layer and 5 nodes). But the last model with two hidden layers had a higher RMS Error for Validation versus the training. "
      ]
    },
    {
      "cell_type": "markdown",
      "metadata": {
        "id": "cTjutvfVBUxw"
      },
      "source": [
        "**Comment on the appropriate number of layers and nodes for this application.**"
      ]
    },
    {
      "cell_type": "markdown",
      "metadata": {
        "id": "hW0CbqP6BiHY"
      },
      "source": [
        "Based on our results we believe the 2 hidden layers with 5 nodes each model is the best because it had the least RMS Error."
      ]
    }
  ]
}